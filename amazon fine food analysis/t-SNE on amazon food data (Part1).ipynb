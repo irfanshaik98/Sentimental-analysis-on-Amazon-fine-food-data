{
 "cells": [
  {
   "cell_type": "markdown",
   "metadata": {},
   "source": [
    "# t-SNE on Amazon Fine Food Data"
   ]
  },
  {
   "cell_type": "markdown",
   "metadata": {},
   "source": [
    "<b>t-SNE</b> :-t-distributed Stochastic Neighbor Embedding."
   ]
  },
  {
   "cell_type": "markdown",
   "metadata": {},
   "source": [
    "<b>What is t-SNE</b> \n",
    "\n",
    "t-Distributed Stochastic Neighbor Embedding (t-SNE) is an unsupervised, non-linear technique primarily used for data exploration and visualizing high-dimensional data. In simpler terms, t-SNE gives you a feel or intuition of how the data is arranged in a high-dimensional space.\n",
    "\n",
    "t-SNE differs from PCA by preserving only small pairwise distances or local similarities whereas PCA is concerned with preserving large pairwise distances to maximize variance.\n",
    "\n",
    "-what is distribution?\n",
    "\n",
    "Used to solve the crowding problem.\n",
    "\n",
    "what is Neighborhood?\n",
    "\n",
    "Points that are geometrically closed.\n",
    "\n",
    "what is Embedding?\n",
    "\n",
    "Finding low dimensional space for points given in higher dimensional space.\n",
    "\n",
    "How does it do?\n",
    "\n",
    "\n",
    "It preserves local structure of data.\n",
    "\n",
    "Important parameters\n",
    "\n",
    "perplexity: Number of points considered as neighbor geometrically.\n",
    "\n",
    "n_iter: Number of iterations to be repeated"
   ]
  },
  {
   "cell_type": "markdown",
   "metadata": {
    "ExecuteTime": {
     "end_time": "2019-12-14T11:48:13.896044Z",
     "start_time": "2019-12-14T11:48:13.886019Z"
    }
   },
   "source": [
    "<b>Important this that to kept in mind while training t-SNE?</b>\n",
    " \n",
    "-->Always run t-SNE with multiple perplexity values until it reaches to stabilized shape\n",
    "\n",
    "-->if perplexity values  = number of data points it will become a mess \n",
    "\n",
    "-->perplexity should be less then < number of data points\n",
    "\n",
    "-->Never run t-SNE with different perplexity and stepsize until shape stabilize \n"
   ]
  },
  {
   "cell_type": "markdown",
   "metadata": {},
   "source": [
    "NOTE:- t-sne is a iterative algoritm(stochastic algorithm). Eventually it wants to reach a stage that clusters are no long moving.it tires to find embeddings in each iteration"
   ]
  },
  {
   "cell_type": "markdown",
   "metadata": {},
   "source": [
    "<b>About</b>\n",
    "\n",
    "This dataset consists of reviews of fine foods from amazon. The data span a period of more than 10 years, including all ~500,000 reviews up to October 2012. Reviews include product and user information, ratings, and a plaintext review. We also have reviews from all other Amazon categories.\n"
   ]
  },
  {
   "cell_type": "markdown",
   "metadata": {
    "ExecuteTime": {
     "end_time": "2019-12-12T07:44:38.116603Z",
     "start_time": "2019-12-12T07:44:38.108609Z"
    }
   },
   "source": [
    "<b>Data</b>\n",
    "\n",
    "Number of reviews: 568,454.\n",
    "\n",
    "Number of users: 256,059.\n",
    "\n",
    "Number of products: 74,258.\n",
    "\n",
    "Timespan: Oct 1999 - Oct 2012\n",
    "\n",
    "Number of Attributes/Columns in data: 10"
   ]
  },
  {
   "cell_type": "markdown",
   "metadata": {},
   "source": [
    "<b> Data consist of </b>\n",
    "\n",
    "1.ID\n",
    "\n",
    "2.productID\n",
    "\n",
    "3.userID: unique ID for every customer\n",
    "\n",
    "4.score:-rating 1-5\n",
    "\n",
    "5.Helpfulness numerator :- how many customers find reviews  helpful\n",
    "\n",
    "6.Helpfulness Denominator :- How Many customers find the review helpful or not\n",
    "\n",
    "7.Text:- text of the review\n",
    "\n",
    "8.Summary\n",
    "\n",
    "9.Time :- time stamp\n",
    "\n",
    "10.Profile Name\n",
    "\n"
   ]
  },
  {
   "cell_type": "markdown",
   "metadata": {
    "ExecuteTime": {
     "end_time": "2019-12-12T07:45:35.820735Z",
     "start_time": "2019-12-12T07:45:35.812778Z"
    }
   },
   "source": [
    "<b>objective</b>\n",
    "\n",
    "Visualizing higher dimensions data using t-SNE"
   ]
  },
  {
   "cell_type": "markdown",
   "metadata": {},
   "source": [
    "Here to achieve this task we use dimensionality reduction technique called t-sne it visually represent the higher dimension data in lower dimensions.In this technique we will see if the data is separable or not based on its polarity."
   ]
  },
  {
   "cell_type": "markdown",
   "metadata": {},
   "source": [
    "<b>How to achieve this Task?</b>\n",
    "\n",
    "From the data using Scoring attribute .A rating of 4-5 stars can be consider as Positive review and with rating 1-2 can be consider as \n",
    " Negative review and score with 3 is neglected because it was neutral review we cant decide whether its a positive or negative review."
   ]
  },
  {
   "cell_type": "code",
   "execution_count": 1,
   "metadata": {
    "ExecuteTime": {
     "end_time": "2019-12-13T09:04:50.626794Z",
     "start_time": "2019-12-13T09:03:28.423880Z"
    }
   },
   "outputs": [],
   "source": [
    "#importing required librarie\n",
    "%matplotlib inline\n",
    "import os \n",
    "import pandas as pd  #data analysis\n",
    "import numpy as np #scientific computation\n",
    "import seaborn as sns #ploting tool\n",
    "import matplotlib.pyplot as plt #ploting tool\n",
    "import sqlite3 #for Sql\n",
    "import re # This module provides regular expression matching operations\n",
    "\n",
    "#Natural Language processing toolkit\n",
    "\n",
    "import string\n",
    "import nltk\n",
    "from nltk.corpus import stopwords\n",
    "from nltk.stem import PorterStemmer\n",
    "from nltk.stem.wordnet import WordNetLemmatizer\n",
    "\n",
    "\n",
    "from gensim.models import Word2Vec\n",
    "from gensim.models.keyedvectors import KeyedVectors\n",
    "import pickle\n",
    "\n",
    "from tqdm import tqdm\n",
    "\n",
    "from sklearn.feature_extraction.text import TfidfTransformer\n",
    "from sklearn.feature_extraction.text import TfidfVectorizer\n",
    "from sklearn.feature_extraction.text import CountVectorizer\n",
    "\n",
    "from sklearn.metrics import confusion_matrix\n",
    "from sklearn.metrics import roc_curve,auc\n",
    "from sklearn import metrics\n",
    "\n",
    "from sklearn.preprocessing import StandardScaler\n",
    "from sklearn.manifold import TSNE\n",
    "\n",
    "    \n",
    "    \n"
   ]
  },
  {
   "cell_type": "code",
   "execution_count": 2,
   "metadata": {
    "ExecuteTime": {
     "end_time": "2019-12-13T04:48:17.971773Z",
     "start_time": "2019-12-13T04:48:03.314104Z"
    }
   },
   "outputs": [],
   "source": [
    "link = sqlite3.connect(\"C:/users/rock/Documents/database.sqlite\") #linking with sql data \n",
    "\n",
    "#Taking only postive and negative reviews im not considering neutral reviws 3\n",
    "\n",
    "df = pd.read_sql_query(\"\"\"SELECT* FROM Reviews WHERE Score !=3 \"\"\",link)"
   ]
  },
  {
   "cell_type": "code",
   "execution_count": 52,
   "metadata": {
    "ExecuteTime": {
     "end_time": "2019-12-12T13:10:43.229737Z",
     "start_time": "2019-12-12T13:10:43.001455Z"
    }
   },
   "outputs": [
    {
     "data": {
      "text/html": [
       "<div>\n",
       "<style scoped>\n",
       "    .dataframe tbody tr th:only-of-type {\n",
       "        vertical-align: middle;\n",
       "    }\n",
       "\n",
       "    .dataframe tbody tr th {\n",
       "        vertical-align: top;\n",
       "    }\n",
       "\n",
       "    .dataframe thead th {\n",
       "        text-align: right;\n",
       "    }\n",
       "</style>\n",
       "<table border=\"1\" class=\"dataframe\">\n",
       "  <thead>\n",
       "    <tr style=\"text-align: right;\">\n",
       "      <th></th>\n",
       "      <th>Id</th>\n",
       "      <th>ProductId</th>\n",
       "      <th>UserId</th>\n",
       "      <th>ProfileName</th>\n",
       "      <th>HelpfulnessNumerator</th>\n",
       "      <th>HelpfulnessDenominator</th>\n",
       "      <th>Score</th>\n",
       "      <th>Time</th>\n",
       "      <th>Summary</th>\n",
       "      <th>Text</th>\n",
       "      <th>Labels</th>\n",
       "    </tr>\n",
       "  </thead>\n",
       "  <tbody>\n",
       "    <tr>\n",
       "      <th>0</th>\n",
       "      <td>1</td>\n",
       "      <td>B001E4KFG0</td>\n",
       "      <td>A3SGXH7AUHU8GW</td>\n",
       "      <td>delmartian</td>\n",
       "      <td>1</td>\n",
       "      <td>1</td>\n",
       "      <td>positive</td>\n",
       "      <td>1303862400</td>\n",
       "      <td>Good Quality Dog Food</td>\n",
       "      <td>I have bought several of the Vitality canned d...</td>\n",
       "      <td>1</td>\n",
       "    </tr>\n",
       "    <tr>\n",
       "      <th>1</th>\n",
       "      <td>2</td>\n",
       "      <td>B00813GRG4</td>\n",
       "      <td>A1D87F6ZCVE5NK</td>\n",
       "      <td>dll pa</td>\n",
       "      <td>0</td>\n",
       "      <td>0</td>\n",
       "      <td>negative</td>\n",
       "      <td>1346976000</td>\n",
       "      <td>Not as Advertised</td>\n",
       "      <td>Product arrived labeled as Jumbo Salted Peanut...</td>\n",
       "      <td>0</td>\n",
       "    </tr>\n",
       "    <tr>\n",
       "      <th>2</th>\n",
       "      <td>3</td>\n",
       "      <td>B000LQOCH0</td>\n",
       "      <td>ABXLMWJIXXAIN</td>\n",
       "      <td>Natalia Corres \"Natalia Corres\"</td>\n",
       "      <td>1</td>\n",
       "      <td>1</td>\n",
       "      <td>positive</td>\n",
       "      <td>1219017600</td>\n",
       "      <td>\"Delight\" says it all</td>\n",
       "      <td>This is a confection that has been around a fe...</td>\n",
       "      <td>1</td>\n",
       "    </tr>\n",
       "    <tr>\n",
       "      <th>3</th>\n",
       "      <td>4</td>\n",
       "      <td>B000UA0QIQ</td>\n",
       "      <td>A395BORC6FGVXV</td>\n",
       "      <td>Karl</td>\n",
       "      <td>3</td>\n",
       "      <td>3</td>\n",
       "      <td>negative</td>\n",
       "      <td>1307923200</td>\n",
       "      <td>Cough Medicine</td>\n",
       "      <td>If you are looking for the secret ingredient i...</td>\n",
       "      <td>0</td>\n",
       "    </tr>\n",
       "    <tr>\n",
       "      <th>4</th>\n",
       "      <td>5</td>\n",
       "      <td>B006K2ZZ7K</td>\n",
       "      <td>A1UQRSCLF8GW1T</td>\n",
       "      <td>Michael D. Bigham \"M. Wassir\"</td>\n",
       "      <td>0</td>\n",
       "      <td>0</td>\n",
       "      <td>positive</td>\n",
       "      <td>1350777600</td>\n",
       "      <td>Great taffy</td>\n",
       "      <td>Great taffy at a great price.  There was a wid...</td>\n",
       "      <td>1</td>\n",
       "    </tr>\n",
       "  </tbody>\n",
       "</table>\n",
       "</div>"
      ],
      "text/plain": [
       "   Id   ProductId          UserId                      ProfileName  \\\n",
       "0   1  B001E4KFG0  A3SGXH7AUHU8GW                       delmartian   \n",
       "1   2  B00813GRG4  A1D87F6ZCVE5NK                           dll pa   \n",
       "2   3  B000LQOCH0   ABXLMWJIXXAIN  Natalia Corres \"Natalia Corres\"   \n",
       "3   4  B000UA0QIQ  A395BORC6FGVXV                             Karl   \n",
       "4   5  B006K2ZZ7K  A1UQRSCLF8GW1T    Michael D. Bigham \"M. Wassir\"   \n",
       "\n",
       "   HelpfulnessNumerator  HelpfulnessDenominator     Score        Time  \\\n",
       "0                     1                       1  positive  1303862400   \n",
       "1                     0                       0  negative  1346976000   \n",
       "2                     1                       1  positive  1219017600   \n",
       "3                     3                       3  negative  1307923200   \n",
       "4                     0                       0  positive  1350777600   \n",
       "\n",
       "                 Summary                                               Text  \\\n",
       "0  Good Quality Dog Food  I have bought several of the Vitality canned d...   \n",
       "1      Not as Advertised  Product arrived labeled as Jumbo Salted Peanut...   \n",
       "2  \"Delight\" says it all  This is a confection that has been around a fe...   \n",
       "3         Cough Medicine  If you are looking for the secret ingredient i...   \n",
       "4            Great taffy  Great taffy at a great price.  There was a wid...   \n",
       "\n",
       "   Labels  \n",
       "0       1  \n",
       "1       0  \n",
       "2       1  \n",
       "3       0  \n",
       "4       1  "
      ]
     },
     "execution_count": 52,
     "metadata": {},
     "output_type": "execute_result"
    }
   ],
   "source": [
    "#give reviews with score >3 as positive and <3 gives neagitve\n",
    "def split (x):\n",
    "    if x<3:\n",
    "        return \"negative\"\n",
    "    return \"positive\"\n",
    "\n",
    "#converting to postive and negative scores \n",
    "\n",
    "actualScore = df[\"Score\"]\n",
    "PostiveNegative = actualScore.map(split)\n",
    "df[\"Score\"]=PostiveNegative\n",
    "\n",
    "\n",
    "df['Labels'] =df['Score'].apply(lambda x: 1 if x=='positive' else 0)\n",
    "\n",
    "df.head(5)"
   ]
  },
  {
   "cell_type": "markdown",
   "metadata": {},
   "source": [
    "# Data Preprocessing "
   ]
  },
  {
   "cell_type": "markdown",
   "metadata": {},
   "source": [
    "<b>Data Cleaning </b> basically means removing the false and duplicate entries from the original data .This is the most important step in Machine learning Becoz our data consists of lots of misleading and duplicate entries if we give this data to our algorthim it will loose its accuracy.So for better output we clean Data Everytime when we are dealing with a data set"
   ]
  },
  {
   "cell_type": "markdown",
   "metadata": {},
   "source": [
    "After cleaning data we do some feature engineering steps to feed the data to our algorithm\n",
    "\n",
    "We here convert some categorical features to numerical feature vector to feed our algorithm .ML models takes numerical data to train the model .we cant use categorical data to feed our model.So feature engineering is the most important step"
   ]
  },
  {
   "cell_type": "markdown",
   "metadata": {
    "ExecuteTime": {
     "end_time": "2019-12-12T07:50:39.985389Z",
     "start_time": "2019-12-12T07:50:39.978022Z"
    }
   },
   "source": [
    "BY observing the data we can see some reviews has duplicate entires in our dataset  lets look how many reviews has duplicate entries\n"
   ]
  },
  {
   "cell_type": "code",
   "execution_count": 54,
   "metadata": {
    "ExecuteTime": {
     "end_time": "2019-12-12T13:12:02.509907Z",
     "start_time": "2019-12-12T13:11:39.994113Z"
    }
   },
   "outputs": [],
   "source": [
    "display= pd.read_sql_query (\"\"\" SELECT  UserId, ProductId, ProfileName, Time, Score, Text, COUNT(*)\n",
    "                        FROM Reviews \n",
    "                        GROUP BY UserId\n",
    "                        HAVING COUNT(*)>1\n",
    "                                \"\"\",link)"
   ]
  },
  {
   "cell_type": "code",
   "execution_count": 55,
   "metadata": {
    "ExecuteTime": {
     "end_time": "2019-12-12T13:12:03.882011Z",
     "start_time": "2019-12-12T13:12:03.879004Z"
    }
   },
   "outputs": [
    {
     "data": {
      "text/plain": [
       "(80668, 7)"
      ]
     },
     "execution_count": 55,
     "metadata": {},
     "output_type": "execute_result"
    }
   ],
   "source": [
    "display.shape"
   ]
  },
  {
   "cell_type": "code",
   "execution_count": 56,
   "metadata": {
    "ExecuteTime": {
     "end_time": "2019-12-12T13:12:05.230285Z",
     "start_time": "2019-12-12T13:12:05.224269Z"
    }
   },
   "outputs": [
    {
     "data": {
      "text/plain": [
       "5    51719\n",
       "4    11142\n",
       "1     7462\n",
       "3     5979\n",
       "2     4366\n",
       "Name: Score, dtype: int64"
      ]
     },
     "execution_count": 56,
     "metadata": {},
     "output_type": "execute_result"
    }
   ],
   "source": [
    "display[\"Score\"].value_counts()"
   ]
  },
  {
   "cell_type": "code",
   "execution_count": 57,
   "metadata": {
    "ExecuteTime": {
     "end_time": "2019-12-12T13:12:06.668909Z",
     "start_time": "2019-12-12T13:12:06.574960Z"
    }
   },
   "outputs": [
    {
     "data": {
      "image/png": "[encoded data removed]",
      "text/plain": [
       "<Figure size 576x576 with 1 Axes>"
      ]
     },
     "metadata": {
      "needs_background": "light"
     },
     "output_type": "display_data"
    }
   ],
   "source": [
    "ax = display[\"Score\"].value_counts().plot(kind='bar', \n",
    "                figsize=(8, 8),\n",
    "                rot=90,color = ['#D9534F','#E17572','#E7918E','#ECA7A5','#F0B9B7'])\n",
    "\n",
    "ax.set_title('Count of  reviews',fontsize=16)\n",
    "ax.set_facecolor('white')\n",
    "ax.get_yaxis().set_visible(False) #removing boader\n",
    "for p in ax.patches:\n",
    "    ax.annotate(np.round(p.get_height(),decimals=2), \n",
    "                (p.get_x()+p.get_width()/2., p.get_height()), \n",
    "                ha='center', \n",
    "                va='center', \n",
    "                xytext=(0, 10), \n",
    "                textcoords='offset points',\n",
    "                fontsize = 14\n",
    "               )\n",
    "plt.show()\n"
   ]
  },
  {
   "cell_type": "code",
   "execution_count": 58,
   "metadata": {
    "ExecuteTime": {
     "end_time": "2019-12-12T13:12:08.652948Z",
     "start_time": "2019-12-12T13:12:08.016953Z"
    }
   },
   "outputs": [
    {
     "data": {
      "text/html": [
       "<div>\n",
       "<style scoped>\n",
       "    .dataframe tbody tr th:only-of-type {\n",
       "        vertical-align: middle;\n",
       "    }\n",
       "\n",
       "    .dataframe tbody tr th {\n",
       "        vertical-align: top;\n",
       "    }\n",
       "\n",
       "    .dataframe thead th {\n",
       "        text-align: right;\n",
       "    }\n",
       "</style>\n",
       "<table border=\"1\" class=\"dataframe\">\n",
       "  <thead>\n",
       "    <tr style=\"text-align: right;\">\n",
       "      <th></th>\n",
       "      <th>Id</th>\n",
       "      <th>ProductId</th>\n",
       "      <th>UserId</th>\n",
       "      <th>ProfileName</th>\n",
       "      <th>HelpfulnessNumerator</th>\n",
       "      <th>HelpfulnessDenominator</th>\n",
       "      <th>Score</th>\n",
       "      <th>Time</th>\n",
       "      <th>Summary</th>\n",
       "      <th>Text</th>\n",
       "    </tr>\n",
       "  </thead>\n",
       "  <tbody>\n",
       "    <tr>\n",
       "      <th>0</th>\n",
       "      <td>83657</td>\n",
       "      <td>B005ZBZLT4</td>\n",
       "      <td>#oc-R11DNU2NBKQ23Z</td>\n",
       "      <td>Kim Cieszykowski</td>\n",
       "      <td>0</td>\n",
       "      <td>2</td>\n",
       "      <td>1</td>\n",
       "      <td>1348531200</td>\n",
       "      <td>Terrible coffee</td>\n",
       "      <td>This coffee is horrible and unfortunately not ...</td>\n",
       "    </tr>\n",
       "    <tr>\n",
       "      <th>1</th>\n",
       "      <td>181211</td>\n",
       "      <td>B007Y59HVM</td>\n",
       "      <td>#oc-R11DNU2NBKQ23Z</td>\n",
       "      <td>Kim Cieszykowski</td>\n",
       "      <td>0</td>\n",
       "      <td>2</td>\n",
       "      <td>1</td>\n",
       "      <td>1348531200</td>\n",
       "      <td>Terrible coffee</td>\n",
       "      <td>This coffee is horrible and unfortunately not ...</td>\n",
       "    </tr>\n",
       "  </tbody>\n",
       "</table>\n",
       "</div>"
      ],
      "text/plain": [
       "       Id   ProductId              UserId       ProfileName  \\\n",
       "0   83657  B005ZBZLT4  #oc-R11DNU2NBKQ23Z  Kim Cieszykowski   \n",
       "1  181211  B007Y59HVM  #oc-R11DNU2NBKQ23Z  Kim Cieszykowski   \n",
       "\n",
       "   HelpfulnessNumerator  HelpfulnessDenominator  Score        Time  \\\n",
       "0                     0                       2      1  1348531200   \n",
       "1                     0                       2      1  1348531200   \n",
       "\n",
       "           Summary                                               Text  \n",
       "0  Terrible coffee  This coffee is horrible and unfortunately not ...  \n",
       "1  Terrible coffee  This coffee is horrible and unfortunately not ...  "
      ]
     },
     "execution_count": 58,
     "metadata": {},
     "output_type": "execute_result"
    }
   ],
   "source": [
    "display= pd.read_sql_query(\"\"\"\n",
    "SELECT *\n",
    "FROM Reviews\n",
    "WHERE Score != 3 AND UserId=\"#oc-R11DNU2NBKQ23Z\"\n",
    "ORDER BY ProductID\n",
    "\"\"\", link)\n",
    "display.head()"
   ]
  },
  {
   "cell_type": "markdown",
   "metadata": {
    "ExecuteTime": {
     "end_time": "2019-12-12T08:07:02.787235Z",
     "start_time": "2019-12-12T08:07:02.775234Z"
    }
   },
   "source": [
    "Here You can see That user Kim Cieszykowski has the same reviews ,HelpfulnessNumerator and Helpfulnessdenominator,time,stamp,userid.\n",
    "\n",
    "Obsereve that product ID is different but remaining attributes that means Kim's review is gost updated for two prodcut at the same time. This will happen because the product has the same brand name, same quantity and different flavour.\n",
    "\n",
    "Its important to delete this dupliate entires for this I use <b>drop_duplicate()</b> fucntion from pandas.\n"
   ]
  },
  {
   "cell_type": "code",
   "execution_count": 59,
   "metadata": {
    "ExecuteTime": {
     "end_time": "2019-12-12T13:12:12.018831Z",
     "start_time": "2019-12-12T13:12:09.989501Z"
    }
   },
   "outputs": [],
   "source": [
    "#soting the data according to productid \n",
    "sd=df.sort_values(\"ProductId\",axis=0,ascending=True)\n",
    "\n",
    "#dropng the duplicates \n",
    "resulted_data= sd.drop_duplicates(subset={\"UserId\",\"ProfileName\",\"Time\",\"Text\"}, keep='first', inplace=False)\n"
   ]
  },
  {
   "cell_type": "code",
   "execution_count": 60,
   "metadata": {
    "ExecuteTime": {
     "end_time": "2019-12-12T13:12:13.383622Z",
     "start_time": "2019-12-12T13:12:13.380613Z"
    }
   },
   "outputs": [
    {
     "data": {
      "text/plain": [
       "(364173, 11)"
      ]
     },
     "execution_count": 60,
     "metadata": {},
     "output_type": "execute_result"
    }
   ],
   "source": [
    "resulted_data.shape"
   ]
  },
  {
   "cell_type": "markdown",
   "metadata": {},
   "source": [
    "ere you can observe that from 500k data points we remain with only 360K+ data points.I our data we nearly have 30 % of duplicate values."
   ]
  },
  {
   "cell_type": "code",
   "execution_count": 61,
   "metadata": {
    "ExecuteTime": {
     "end_time": "2019-12-12T13:12:14.750672Z",
     "start_time": "2019-12-12T13:12:14.746892Z"
    }
   },
   "outputs": [
    {
     "data": {
      "text/plain": [
       "Index(['Id', 'ProductId', 'UserId', 'ProfileName', 'HelpfulnessNumerator',\n",
       "       'HelpfulnessDenominator', 'Score', 'Time', 'Summary', 'Text', 'Labels'],\n",
       "      dtype='object')"
      ]
     },
     "execution_count": 61,
     "metadata": {},
     "output_type": "execute_result"
    }
   ],
   "source": [
    "resulted_data.columns"
   ]
  },
  {
   "cell_type": "code",
   "execution_count": 62,
   "metadata": {
    "ExecuteTime": {
     "end_time": "2019-12-12T13:12:16.100306Z",
     "start_time": "2019-12-12T13:12:16.087452Z"
    }
   },
   "outputs": [
    {
     "data": {
      "text/html": [
       "<div>\n",
       "<style scoped>\n",
       "    .dataframe tbody tr th:only-of-type {\n",
       "        vertical-align: middle;\n",
       "    }\n",
       "\n",
       "    .dataframe tbody tr th {\n",
       "        vertical-align: top;\n",
       "    }\n",
       "\n",
       "    .dataframe thead th {\n",
       "        text-align: right;\n",
       "    }\n",
       "</style>\n",
       "<table border=\"1\" class=\"dataframe\">\n",
       "  <thead>\n",
       "    <tr style=\"text-align: right;\">\n",
       "      <th></th>\n",
       "      <th>Id</th>\n",
       "      <th>ProductId</th>\n",
       "      <th>UserId</th>\n",
       "      <th>ProfileName</th>\n",
       "      <th>HelpfulnessNumerator</th>\n",
       "      <th>HelpfulnessDenominator</th>\n",
       "      <th>Score</th>\n",
       "      <th>Time</th>\n",
       "      <th>Summary</th>\n",
       "      <th>Text</th>\n",
       "    </tr>\n",
       "  </thead>\n",
       "  <tbody>\n",
       "    <tr>\n",
       "      <th>0</th>\n",
       "      <td>64422</td>\n",
       "      <td>B000MIDROQ</td>\n",
       "      <td>A161DK06JJMCYF</td>\n",
       "      <td>J. E. Stephens \"Jeanne\"</td>\n",
       "      <td>3</td>\n",
       "      <td>1</td>\n",
       "      <td>5</td>\n",
       "      <td>1224892800</td>\n",
       "      <td>Bought This for My Son at College</td>\n",
       "      <td>My son loves spaghetti so I didn't hesitate or...</td>\n",
       "    </tr>\n",
       "    <tr>\n",
       "      <th>1</th>\n",
       "      <td>44737</td>\n",
       "      <td>B001EQ55RW</td>\n",
       "      <td>A2V0I904FH7ABY</td>\n",
       "      <td>Ram</td>\n",
       "      <td>3</td>\n",
       "      <td>2</td>\n",
       "      <td>4</td>\n",
       "      <td>1212883200</td>\n",
       "      <td>Pure cocoa taste with crunchy almonds inside</td>\n",
       "      <td>It was almost a 'love at first bite' - the per...</td>\n",
       "    </tr>\n",
       "  </tbody>\n",
       "</table>\n",
       "</div>"
      ],
      "text/plain": [
       "      Id   ProductId          UserId              ProfileName  \\\n",
       "0  64422  B000MIDROQ  A161DK06JJMCYF  J. E. Stephens \"Jeanne\"   \n",
       "1  44737  B001EQ55RW  A2V0I904FH7ABY                      Ram   \n",
       "\n",
       "   HelpfulnessNumerator  HelpfulnessDenominator  Score        Time  \\\n",
       "0                     3                       1      5  1224892800   \n",
       "1                     3                       2      4  1212883200   \n",
       "\n",
       "                                        Summary  \\\n",
       "0             Bought This for My Son at College   \n",
       "1  Pure cocoa taste with crunchy almonds inside   \n",
       "\n",
       "                                                Text  \n",
       "0  My son loves spaghetti so I didn't hesitate or...  \n",
       "1  It was almost a 'love at first bite' - the per...  "
      ]
     },
     "execution_count": 62,
     "metadata": {},
     "output_type": "execute_result"
    }
   ],
   "source": [
    "display= pd.read_sql_query(\"\"\"\n",
    "SELECT *\n",
    "FROM Reviews\n",
    "WHERE Score != 3 AND Id=44737 OR Id=64422\n",
    "ORDER BY ProductID\n",
    "\"\"\", link)\n",
    "\n",
    "display.head()"
   ]
  },
  {
   "cell_type": "code",
   "execution_count": 63,
   "metadata": {
    "ExecuteTime": {
     "end_time": "2019-12-12T13:12:17.545326Z",
     "start_time": "2019-12-12T13:12:17.442116Z"
    }
   },
   "outputs": [],
   "source": [
    "resulted_data=resulted_data[resulted_data.HelpfulnessNumerator<=resulted_data.HelpfulnessDenominator]"
   ]
  },
  {
   "cell_type": "code",
   "execution_count": 64,
   "metadata": {
    "ExecuteTime": {
     "end_time": "2019-12-12T13:12:18.919406Z",
     "start_time": "2019-12-12T13:12:18.892302Z"
    }
   },
   "outputs": [
    {
     "data": {
      "text/plain": [
       "positive    307061\n",
       "negative     57110\n",
       "Name: Score, dtype: int64"
      ]
     },
     "execution_count": 64,
     "metadata": {},
     "output_type": "execute_result"
    }
   ],
   "source": [
    "resulted_data[\"Score\"].value_counts()"
   ]
  },
  {
   "cell_type": "code",
   "execution_count": 65,
   "metadata": {
    "ExecuteTime": {
     "end_time": "2019-12-12T13:12:20.368000Z",
     "start_time": "2019-12-12T13:12:20.259755Z"
    }
   },
   "outputs": [
    {
     "data": {
      "image/png": "[encoded data removed]",
      "text/plain": [
       "<Figure size 576x576 with 1 Axes>"
      ]
     },
     "metadata": {
      "needs_background": "light"
     },
     "output_type": "display_data"
    }
   ],
   "source": [
    "ax = resulted_data[\"Score\"].value_counts().plot(kind='bar', \n",
    "                figsize=(8, 8),\n",
    "                rot=90,color = ['#5cb85c','#d9534f'])\n",
    "\n",
    "ax.set_title('Count of positive and negative reviews',fontsize=16)\n",
    "ax.set_facecolor('white')\n",
    "\n",
    "# setting legend font size\n",
    "#ax.legend(fontsize=14,facecolor = 'white') \n",
    "\n",
    "ax.get_yaxis().set_visible(False) #removing boader\n",
    " #Creating a function to display the values on top.\n",
    "for p in ax.patches:\n",
    "    ax.annotate(np.round(p.get_height(),decimals=2), \n",
    "                (p.get_x()+p.get_width()/2., p.get_height()), \n",
    "                ha='center', \n",
    "                va='center', \n",
    "                xytext=(0, 10), \n",
    "                textcoords='offset points',\n",
    "                fontsize = 14\n",
    "               )\n",
    "plt.show()"
   ]
  },
  {
   "cell_type": "markdown",
   "metadata": {},
   "source": [
    "# Data Preprocessing"
   ]
  },
  {
   "cell_type": "code",
   "execution_count": 66,
   "metadata": {
    "ExecuteTime": {
     "end_time": "2019-12-12T13:12:21.725240Z",
     "start_time": "2019-12-12T13:12:21.720526Z"
    }
   },
   "outputs": [
    {
     "name": "stdout",
     "output_type": "stream",
     "text": [
      "In June<br />I saw a charming group<br />of roses all begin<br />to droop<br />I pepped them up<br />with chicken soup!<br />Sprinkle once<br />sprinkle twice<br />sprinkle chicken soup<br />with rice<br /><br />This is a great book to teach children the months of the year. The repetition of the phrases and the funny little stories with accompanying pictures make for an ideal bedtime read. This isn't nearly as good as some of Sendak's other books (like Where the Wild Things are or Pierre: The Boy Who Didn't Care), but it still carries his unique brand of charm.\n"
     ]
    }
   ],
   "source": [
    "#removing stopwords\n",
    "check1=resulted_data[\"Text\"].values[20]\n",
    "print(check1)"
   ]
  },
  {
   "cell_type": "markdown",
   "metadata": {},
   "source": [
    "From the bove Text u can observe that a single text contains lots of junk like:html tags,upper cases,loweer cases,angular bases ,puntuations,symbols.\n",
    " To clean this we undergoes into <b>Text Preprocessing</b> STEPS:-\n",
    " \n",
    "<b>\n",
    "1 - Tokenization\n",
    "    \n",
    "2 - Normalization\n",
    "\n",
    "3 - Substution\n",
    "</b>\n",
    "\n",
    "\n",
    "\n",
    "Click this link for Clear Understanding off this concept:-https://www.kdnuggets.com/2017/12/general-approach-preprocessing-text-data.html"
   ]
  },
  {
   "cell_type": "markdown",
   "metadata": {
    "ExecuteTime": {
     "end_time": "2019-12-12T08:23:19.612469Z",
     "start_time": "2019-12-12T08:23:19.604512Z"
    }
   },
   "source": [
    "<b>https://pymotw.com/3/re/ :-documentaion on RE \n",
    "    \n",
    "if you find dificult in understanding the above RE documentaion  then Refer this Blog:-</b>\n",
    "    \n",
    "https://www.pythonforbeginners.com/regex/regular-expressions-in-python"
   ]
  },
  {
   "cell_type": "code",
   "execution_count": 67,
   "metadata": {
    "ExecuteTime": {
     "end_time": "2019-12-12T13:12:23.071918Z",
     "start_time": "2019-12-12T13:12:23.065399Z"
    }
   },
   "outputs": [
    {
     "name": "stdout",
     "output_type": "stream",
     "text": [
      "In June<br />I saw a charming group<br />of roses all begin<br />to droop<br />I pepped them up<br />with chicken soup!<br />Sprinkle once<br />sprinkle twice<br />sprinkle chicken soup<br />with rice<br /><br />This is a great book to teach children the months of the year. The repetition of the phrases and the funny little stories with accompanying pictures make for an ideal bedtime read. This isn't nearly as good as some of Sendak's other books (like Where the Wild Things are or Pierre: The Boy Who did not Care), but it still carries his unique brand of charm.\n",
      "++++++++++++++++++++++++++++++++++++++++++++++++++++++++++++++++++++++++++++++++++++++++++++++++++++++++++++++++++++++++++++++++++++++++++++++++++++++++++++++++++++++++++++++++++++++++++++++++++++++++++++++++++++++++++++++++++++++++++++++++++++++++++\n",
      "In June br I saw a charming group br of roses all begin br to droop br I pepped them up br with chicken soup br Sprinkle once br sprinkle twice br sprinkle chicken soup br with rice br br This is a great book to teach children the months of the year The repetition of the phrases and the funny little stories with accompanying pictures make for an ideal bedtime read This isn t nearly as good as some of Sendak s other books like Where the Wild Things are or Pierre The Boy Who did not Care but it still carries his unique brand of charm \n"
     ]
    }
   ],
   "source": [
    "check1 = re.sub(r\"Didn\\'t\", \"did not\",check1) #converting the punctuations\n",
    "print(check1)\n",
    "\n",
    "print(\"++\"*125)\n",
    "\n",
    "check1=re.sub('[^A-Za-z0-9]+', ' ',check1)\n",
    "print(check1)"
   ]
  },
  {
   "cell_type": "code",
   "execution_count": 68,
   "metadata": {
    "ExecuteTime": {
     "end_time": "2019-12-12T13:12:24.440619Z",
     "start_time": "2019-12-12T13:12:24.437576Z"
    }
   },
   "outputs": [],
   "source": [
    "from nltk.corpus import stopwords\n",
    "from nltk.stem import PorterStemmer\n",
    "from nltk.stem.wordnet import WordNetLemmatizer\n",
    "#Stemming and stopwords removal\n",
    "from nltk.stem.snowball import SnowballStemmer"
   ]
  },
  {
   "cell_type": "code",
   "execution_count": 69,
   "metadata": {
    "ExecuteTime": {
     "end_time": "2019-12-12T13:12:25.889081Z",
     "start_time": "2019-12-12T13:12:25.819908Z"
    }
   },
   "outputs": [
    {
     "name": "stdout",
     "output_type": "stream",
     "text": [
      "{'few', 'she', 'here', 'me', 'll', 'under', 'your', 'now', 'and', 'own', 'on', 'don', 'out', 'above', 'himself', 'my', 'when', 'only', 'ain', 'our', 'their', 'you', 'down', 'yours', 'has', 'did', 'very', 'was', 'haven', 'for', \"needn't\", 'off', \"hadn't\", 'yourselves', 'during', 'are', 'do', 'through', \"you'll\", 'because', 'after', 'does', \"that'll\", 'by', \"didn't\", \"hasn't\", \"mightn't\", 'have', 'needn', 'so', 'shouldn', 'just', 'below', 'will', 'nor', 'd', 'into', 'to', 'how', \"isn't\", 'were', 'won', 'aren', 'at', 'm', \"aren't\", 'why', 'if', 'some', \"you'd\", 'between', 'what', 'is', 'of', \"don't\", 'having', 'couldn', 'should', 'in', 'wouldn', 'his', 'itself', 'that', 'or', 'until', 'most', 'doesn', 'hadn', 'such', 'other', 'we', 'doing', 'be', 'against', \"shan't\", 's', \"haven't\", 'didn', 'can', 'i', 'once', 'over', 'then', 'further', \"should've\", \"shouldn't\", 'he', 'who', 'each', 'both', \"wouldn't\", 'no', \"doesn't\", 'hasn', \"mustn't\", 'about', 'weren', 'ourselves', 'herself', \"wasn't\", \"you've\", 'all', 'ours', 'them', 're', 'wasn', 'the', \"couldn't\", 'its', 'had', 't', \"it's\", 'from', 'her', 'while', 'themselves', 'any', 'theirs', 'with', 'am', 'being', 'mightn', 'those', 'yourself', 'an', 'same', 'y', 'mustn', 'him', 'they', 'these', 'where', 'shan', 'but', 'as', 'myself', 'up', 'there', 'isn', 'hers', \"you're\", 've', 'before', 'been', 'o', 'a', 'than', 'this', 'whom', 'more', 'not', 'ma', 'again', \"won't\", 'it', 'which', 'too', \"weren't\", \"she's\"}\n",
      "------------------------------------------------------------------------------------------------------------------------\n",
      "beauti\n"
     ]
    }
   ],
   "source": [
    "from nltk.corpus import stopwords\n",
    "\n",
    "stop =set(stopwords.words('english'))\n",
    "\n",
    "#keeping some contextual words\n",
    "\n",
    "print(stop)\n",
    "\n",
    "#for stemming\n",
    "stemm= SnowballStemmer(language=\"english\") #\n",
    "\n",
    "print(\"----\"*30)\n",
    "\n",
    "print(stemm.stem(\"beautiful\"))\n"
   ]
  },
  {
   "cell_type": "code",
   "execution_count": 70,
   "metadata": {
    "ExecuteTime": {
     "end_time": "2019-12-12T13:12:27.309481Z",
     "start_time": "2019-12-12T13:12:27.305972Z"
    }
   },
   "outputs": [],
   "source": [
    "#for stemming\n",
    "stemm= SnowballStemmer(language=\"english\") #\n",
    "\n",
    "def cleanhtml(sent):\n",
    "    cleaner = re.compile('<.*>')\n",
    "    cleantext = re.sub(cleaner, ' ', sentence)\n",
    "    return cleantext\n",
    "\n",
    "def cleanpunc(sent):\n",
    "    cleaned = re.sub(r'[?|.|!|*|@|#|\\'|\"|,|)|(|\\|/]', r'', sentence)\n",
    "    return cleaned\n",
    "\n"
   ]
  },
  {
   "cell_type": "code",
   "execution_count": 71,
   "metadata": {
    "ExecuteTime": {
     "end_time": "2019-12-12T13:16:13.030456Z",
     "start_time": "2019-12-12T13:12:28.683589Z"
    }
   },
   "outputs": [
    {
     "name": "stderr",
     "output_type": "stream",
     "text": [
      "100%|████████████████████████████████████████████████████████████████████████| 364171/364171 [03:44<00:00, 1623.30it/s]\n"
     ]
    }
   ],
   "source": [
    "#cleaning whole data \n",
    "i=0 \n",
    "string =\" \"\n",
    "for_positive_words =[] #storing positve words \n",
    "for_negative_words =[] #storing negatie words \n",
    "final_string=[] # list of final striing after all the processsing \n",
    "s=\"\"\n",
    "\n",
    "for sentence in tqdm (resulted_data[\"Text\"].values):\n",
    "    filtered_data=[] \n",
    "    sentence = cleanpunc(sentence)\n",
    "    sentence = cleanhtml(sentence)\n",
    "    for processed_words in sentence.split(): \n",
    "        if(processed_words.isalpha()) & (len(processed_words)>2):\n",
    "            if(processed_words.lower() not in stop):\n",
    "                s = (stemm.stem(processed_words.lower())).encode(\"utf8\")\n",
    "                filtered_data.append(s)\n",
    "                if (resulted_data[\"Score\"].values)[i]==\"positive\":\n",
    "                    for_positive_words.append(s) # appending to all the positive reviews\n",
    "                if (resulted_data[\"Score\"].values)[i]==\"negative\":\n",
    "                    for_negative_words.append(s) # \n",
    "            else:\n",
    "                continue\n",
    "        else:\n",
    "            continue\n",
    "    \n",
    "    string =b\" \".join(filtered_data) # joinging to final string of processed words\n",
    "    final_string.append(string)\n",
    "    i +=1"
   ]
  },
  {
   "cell_type": "code",
   "execution_count": 78,
   "metadata": {
    "ExecuteTime": {
     "end_time": "2019-12-12T13:17:58.542824Z",
     "start_time": "2019-12-12T13:17:58.145268Z"
    }
   },
   "outputs": [],
   "source": [
    "# Adding new column into dataframe to store cleaned text\n",
    "resulted_data['CleanedText'] = final_string\n",
    "resulted_data['CleanedText'] = resulted_data['CleanedText'].str.decode('utf-8')\n"
   ]
  },
  {
   "cell_type": "code",
   "execution_count": 79,
   "metadata": {
    "ExecuteTime": {
     "end_time": "2019-12-12T13:18:09.116290Z",
     "start_time": "2019-12-12T13:18:00.518814Z"
    }
   },
   "outputs": [],
   "source": [
    "# Creating new dataset with cleaned text for future use\n",
    "conn = sqlite3.connect('resulted_data.sqlite')\n",
    "c = conn.cursor()\n",
    "conn.text_factory = str\n",
    "resulted_data.to_sql('Reviews', conn, schema=None, if_exists='replace', index=True, index_label=None, chunksize=None, dtype=None)\n"
   ]
  },
  {
   "cell_type": "code",
   "execution_count": 80,
   "metadata": {
    "ExecuteTime": {
     "end_time": "2019-12-12T13:18:10.494348Z",
     "start_time": "2019-12-12T13:18:10.489336Z"
    }
   },
   "outputs": [
    {
     "name": "stdout",
     "output_type": "stream",
     "text": [
      "(364171, 12)\n"
     ]
    }
   ],
   "source": [
    "print(resulted_data.shape)"
   ]
  },
  {
   "cell_type": "code",
   "execution_count": 2,
   "metadata": {
    "ExecuteTime": {
     "end_time": "2019-12-13T09:05:13.684094Z",
     "start_time": "2019-12-13T09:04:50.656362Z"
    }
   },
   "outputs": [],
   "source": [
    "# Creating connection to read from database\n",
    "conn = sqlite3.connect('./resulted_data.sqlite')\n",
    "\n",
    "# Creating data frame for visualization using sql query\n",
    "resulted_data = pd.read_sql_query(\"\"\"\n",
    "SELECT *\n",
    "FROM Reviews\n",
    "\"\"\", conn)"
   ]
  },
  {
   "cell_type": "code",
   "execution_count": 90,
   "metadata": {
    "ExecuteTime": {
     "end_time": "2019-12-12T13:24:04.083311Z",
     "start_time": "2019-12-12T13:23:56.507588Z"
    }
   },
   "outputs": [],
   "source": [
    "resulted_data.to_csv(\"resulted_data.csv\")"
   ]
  },
  {
   "cell_type": "code",
   "execution_count": 8,
   "metadata": {
    "ExecuteTime": {
     "end_time": "2019-12-13T04:50:07.324778Z",
     "start_time": "2019-12-13T04:50:07.303722Z"
    }
   },
   "outputs": [
    {
     "data": {
      "text/html": [
       "<div>\n",
       "<style scoped>\n",
       "    .dataframe tbody tr th:only-of-type {\n",
       "        vertical-align: middle;\n",
       "    }\n",
       "\n",
       "    .dataframe tbody tr th {\n",
       "        vertical-align: top;\n",
       "    }\n",
       "\n",
       "    .dataframe thead th {\n",
       "        text-align: right;\n",
       "    }\n",
       "</style>\n",
       "<table border=\"1\" class=\"dataframe\">\n",
       "  <thead>\n",
       "    <tr style=\"text-align: right;\">\n",
       "      <th></th>\n",
       "      <th>index</th>\n",
       "      <th>Id</th>\n",
       "      <th>ProductId</th>\n",
       "      <th>UserId</th>\n",
       "      <th>ProfileName</th>\n",
       "      <th>HelpfulnessNumerator</th>\n",
       "      <th>HelpfulnessDenominator</th>\n",
       "      <th>Score</th>\n",
       "      <th>Time</th>\n",
       "      <th>Summary</th>\n",
       "      <th>Text</th>\n",
       "      <th>Labels</th>\n",
       "      <th>CleanedText</th>\n",
       "    </tr>\n",
       "  </thead>\n",
       "  <tbody>\n",
       "    <tr>\n",
       "      <th>0</th>\n",
       "      <td>138706</td>\n",
       "      <td>150524</td>\n",
       "      <td>0006641040</td>\n",
       "      <td>ACITT7DI6IDDL</td>\n",
       "      <td>shari zychinski</td>\n",
       "      <td>0</td>\n",
       "      <td>0</td>\n",
       "      <td>positive</td>\n",
       "      <td>939340800</td>\n",
       "      <td>EVERY book is educational</td>\n",
       "      <td>this witty little book makes my son laugh at l...</td>\n",
       "      <td>1</td>\n",
       "      <td>witti littl book make son laugh loud recit car...</td>\n",
       "    </tr>\n",
       "    <tr>\n",
       "      <th>1</th>\n",
       "      <td>138688</td>\n",
       "      <td>150506</td>\n",
       "      <td>0006641040</td>\n",
       "      <td>A2IW4PEEKO2R0U</td>\n",
       "      <td>Tracy</td>\n",
       "      <td>1</td>\n",
       "      <td>1</td>\n",
       "      <td>positive</td>\n",
       "      <td>1194739200</td>\n",
       "      <td>Love the book, miss the hard cover version</td>\n",
       "      <td>I grew up reading these Sendak books, and watc...</td>\n",
       "      <td>1</td>\n",
       "      <td>grew read sendak book watch realli rosi movi i...</td>\n",
       "    </tr>\n",
       "    <tr>\n",
       "      <th>2</th>\n",
       "      <td>138689</td>\n",
       "      <td>150507</td>\n",
       "      <td>0006641040</td>\n",
       "      <td>A1S4A3IQ2MU7V4</td>\n",
       "      <td>sally sue \"sally sue\"</td>\n",
       "      <td>1</td>\n",
       "      <td>1</td>\n",
       "      <td>positive</td>\n",
       "      <td>1191456000</td>\n",
       "      <td>chicken soup with rice months</td>\n",
       "      <td>This is a fun way for children to learn their ...</td>\n",
       "      <td>1</td>\n",
       "      <td>fun way children learn month year learn poem t...</td>\n",
       "    </tr>\n",
       "    <tr>\n",
       "      <th>3</th>\n",
       "      <td>138690</td>\n",
       "      <td>150508</td>\n",
       "      <td>0006641040</td>\n",
       "      <td>AZGXZ2UUK6X</td>\n",
       "      <td>Catherine Hallberg \"(Kate)\"</td>\n",
       "      <td>1</td>\n",
       "      <td>1</td>\n",
       "      <td>positive</td>\n",
       "      <td>1076025600</td>\n",
       "      <td>a good swingy rhythm for reading aloud</td>\n",
       "      <td>This is a great little book to read aloud- it ...</td>\n",
       "      <td>1</td>\n",
       "      <td>great littl book read nice rhythm well good re...</td>\n",
       "    </tr>\n",
       "    <tr>\n",
       "      <th>4</th>\n",
       "      <td>138691</td>\n",
       "      <td>150509</td>\n",
       "      <td>0006641040</td>\n",
       "      <td>A3CMRKGE0P909G</td>\n",
       "      <td>Teresa</td>\n",
       "      <td>3</td>\n",
       "      <td>4</td>\n",
       "      <td>positive</td>\n",
       "      <td>1018396800</td>\n",
       "      <td>A great way to learn the months</td>\n",
       "      <td>This is a book of poetry about the months of t...</td>\n",
       "      <td>1</td>\n",
       "      <td>book poetri month year goe month cute littl po...</td>\n",
       "    </tr>\n",
       "  </tbody>\n",
       "</table>\n",
       "</div>"
      ],
      "text/plain": [
       "    index      Id   ProductId          UserId                  ProfileName  \\\n",
       "0  138706  150524  0006641040   ACITT7DI6IDDL              shari zychinski   \n",
       "1  138688  150506  0006641040  A2IW4PEEKO2R0U                        Tracy   \n",
       "2  138689  150507  0006641040  A1S4A3IQ2MU7V4        sally sue \"sally sue\"   \n",
       "3  138690  150508  0006641040     AZGXZ2UUK6X  Catherine Hallberg \"(Kate)\"   \n",
       "4  138691  150509  0006641040  A3CMRKGE0P909G                       Teresa   \n",
       "\n",
       "   HelpfulnessNumerator  HelpfulnessDenominator     Score        Time  \\\n",
       "0                     0                       0  positive   939340800   \n",
       "1                     1                       1  positive  1194739200   \n",
       "2                     1                       1  positive  1191456000   \n",
       "3                     1                       1  positive  1076025600   \n",
       "4                     3                       4  positive  1018396800   \n",
       "\n",
       "                                      Summary  \\\n",
       "0                   EVERY book is educational   \n",
       "1  Love the book, miss the hard cover version   \n",
       "2               chicken soup with rice months   \n",
       "3      a good swingy rhythm for reading aloud   \n",
       "4             A great way to learn the months   \n",
       "\n",
       "                                                Text  Labels  \\\n",
       "0  this witty little book makes my son laugh at l...       1   \n",
       "1  I grew up reading these Sendak books, and watc...       1   \n",
       "2  This is a fun way for children to learn their ...       1   \n",
       "3  This is a great little book to read aloud- it ...       1   \n",
       "4  This is a book of poetry about the months of t...       1   \n",
       "\n",
       "                                         CleanedText  \n",
       "0  witti littl book make son laugh loud recit car...  \n",
       "1  grew read sendak book watch realli rosi movi i...  \n",
       "2  fun way children learn month year learn poem t...  \n",
       "3  great littl book read nice rhythm well good re...  \n",
       "4  book poetri month year goe month cute littl po...  "
      ]
     },
     "execution_count": 8,
     "metadata": {},
     "output_type": "execute_result"
    }
   ],
   "source": [
    "resulted_data.head(5)"
   ]
  },
  {
   "cell_type": "code",
   "execution_count": 5,
   "metadata": {
    "ExecuteTime": {
     "end_time": "2019-12-13T04:49:03.568198Z",
     "start_time": "2019-12-13T04:49:03.486948Z"
    }
   },
   "outputs": [
    {
     "name": "stdout",
     "output_type": "stream",
     "text": [
      "positive    307061\n",
      "negative     57110\n",
      "Name: Score, dtype: int64\n"
     ]
    }
   ],
   "source": [
    "print(df1[\"Score\"].value_counts())"
   ]
  },
  {
   "cell_type": "markdown",
   "metadata": {},
   "source": [
    "For T-sne iterating 500K data set will take alot time to process so for simplycity im taking only 2000 data points to visualize \n",
    "\n",
    "for this im taking a sample of data from 2000 positive reviews and 2000 negative reviews and keeping this in data frame total "
   ]
  },
  {
   "cell_type": "code",
   "execution_count": 3,
   "metadata": {
    "ExecuteTime": {
     "end_time": "2019-12-13T09:05:25.885865Z",
     "start_time": "2019-12-13T09:05:25.641068Z"
    }
   },
   "outputs": [],
   "source": [
    "pos=resulted_data[resulted_data[\"Score\"]==\"positive\"].sample(n=4000)\n",
    "neg = resulted_data[resulted_data[\"Score\"]==\"negative\"].sample(n=4000)\n",
    "\n",
    "total = pd.concat([pos,neg])"
   ]
  },
  {
   "cell_type": "markdown",
   "metadata": {},
   "source": [
    "# Bag of Words\n",
    "\n",
    "Want to know about Bag of Words :-https://en.wikipedia.org/wiki/Bag-of-words_model\n",
    "\n",
    "In BoW we construct a dictionary that contains set of all unique words from our text review dataset.The frequency of the word is counted here. if there are d unique words in our dictionary then for every sentence or review the vector will be of length d and count of word from review is stored at its particular location in vector. The vector will be highly sparse in such case.\n",
    "\n"
   ]
  },
  {
   "cell_type": "code",
   "execution_count": 110,
   "metadata": {
    "ExecuteTime": {
     "end_time": "2019-12-12T14:27:59.578402Z",
     "start_time": "2019-12-12T14:00:58.294795Z"
    }
   },
   "outputs": [
    {
     "name": "stderr",
     "output_type": "stream",
     "text": [
      "C:\\ProgramData\\Anaconda3\\lib\\site-packages\\sklearn\\utils\\validation.py:595: DataConversionWarning: Data with input dtype int64 was converted to float64 by StandardScaler.\n",
      "  warnings.warn(msg, DataConversionWarning)\n",
      "C:\\ProgramData\\Anaconda3\\lib\\site-packages\\sklearn\\utils\\validation.py:595: DataConversionWarning: Data with input dtype int64 was converted to float64 by StandardScaler.\n",
      "  warnings.warn(msg, DataConversionWarning)\n"
     ]
    },
    {
     "name": "stdout",
     "output_type": "stream",
     "text": [
      "(8000, 12072)\n",
      "(8000, 12072)\n"
     ]
    },
    {
     "name": "stderr",
     "output_type": "stream",
     "text": [
      "C:\\ProgramData\\Anaconda3\\lib\\site-packages\\seaborn\\axisgrid.py:230: UserWarning: The `size` paramter has been renamed to `height`; please update your code.\n",
      "  warnings.warn(msg, UserWarning)\n"
     ]
    },
    {
     "data": {
      "image/png": "[encoded data removed]",
      "text/plain": [
       "<Figure size 439.75x360 with 1 Axes>"
      ]
     },
     "metadata": {
      "needs_background": "light"
     },
     "output_type": "display_data"
    },
    {
     "name": "stdout",
     "output_type": "stream",
     "text": [
      "Wall time: 27min 1s\n"
     ]
    }
   ],
   "source": [
    "%%time\n",
    "# Initializing vectorizer for bigram\n",
    "count_vect = CountVectorizer(ngram_range=(1,1))\n",
    "\n",
    "# Initializing standard scaler\n",
    "std_scaler = StandardScaler(with_mean=False)\n",
    "\n",
    "# Creating count vectors and converting into dense representation\n",
    "sample_points = total['CleanedText']\n",
    "sample_points = count_vect.fit_transform(sample_points)\n",
    "sample_points = std_scaler.fit_transform(sample_points)\n",
    "sample_points = sample_points.todense() #t-sne dont work on sparse matrix so we transforing into densee matrix\n",
    "\n",
    "# Storing class label in variable\n",
    "labels = total['Score']\n",
    "\n",
    "# Getting shape\n",
    "print(sample_points.shape)\n",
    "\n",
    "\n",
    "\n",
    "\n",
    "\n",
    "tsne_data =sample_points\n",
    "tsne_labels = labels\n",
    "\n",
    "# Initializing with perplexity=20 and n_iter = 2000\n",
    "model = TSNE(n_components=2, random_state=0, perplexity=30, n_iter=2000)\n",
    "\n",
    "# Fitting model\n",
    "tsne_data = model.fit_transform(tsne_data)\n",
    "\n",
    "# Adding labels to the data point\n",
    "tsne_data = np.vstack((tsne_data.T, tsne_labels)).T\n",
    "\n",
    "# creating a new data frame which help us in ploting the result data\n",
    "tsne_df = pd.DataFrame(data=tsne_data, columns=('Dimension1', 'Dimension2', 'label'))\n",
    "\n",
    "# Ploting the result of tsne\n",
    "sns.FacetGrid(tsne_df, hue='label', size=5).map(plt.scatter, 'Dimension1', 'Dimension2').add_legend()\n",
    "plt.title(\"TSNE with perplexity: 30, n_iter:2000\")\n",
    "plt.xlabel(\"Dimension1\")\n",
    "plt.ylabel(\"Dimension2\")\n",
    "plt.show()\n",
    "\n"
   ]
  },
  {
   "cell_type": "code",
   "execution_count": 10,
   "metadata": {
    "ExecuteTime": {
     "end_time": "2019-12-13T05:45:20.334702Z",
     "start_time": "2019-12-13T04:50:19.178628Z"
    }
   },
   "outputs": [
    {
     "name": "stderr",
     "output_type": "stream",
     "text": [
      "C:\\ProgramData\\Anaconda3\\lib\\site-packages\\sklearn\\utils\\validation.py:595: DataConversionWarning: Data with input dtype int64 was converted to float64 by StandardScaler.\n",
      "  warnings.warn(msg, DataConversionWarning)\n",
      "C:\\ProgramData\\Anaconda3\\lib\\site-packages\\sklearn\\utils\\validation.py:595: DataConversionWarning: Data with input dtype int64 was converted to float64 by StandardScaler.\n",
      "  warnings.warn(msg, DataConversionWarning)\n"
     ]
    },
    {
     "name": "stdout",
     "output_type": "stream",
     "text": [
      "(8000, 12141)\n"
     ]
    },
    {
     "name": "stderr",
     "output_type": "stream",
     "text": [
      "C:\\ProgramData\\Anaconda3\\lib\\site-packages\\seaborn\\axisgrid.py:230: UserWarning: The `size` paramter has been renamed to `height`; please update your code.\n",
      "  warnings.warn(msg, UserWarning)\n"
     ]
    },
    {
     "data": {
      "image/png": "[encoded data removed]",
      "text/plain": [
       "<Figure size 439.75x360 with 1 Axes>"
      ]
     },
     "metadata": {
      "needs_background": "light"
     },
     "output_type": "display_data"
    },
    {
     "name": "stdout",
     "output_type": "stream",
     "text": [
      "Wall time: 55min 1s\n"
     ]
    }
   ],
   "source": [
    "%%time\n",
    "# Initializing vectorizer for bigram\n",
    "count_vect = CountVectorizer()\n",
    "\n",
    "# Initializing standard scaler\n",
    "std_scaler = StandardScaler(with_mean=False)\n",
    "\n",
    "# Creating count vectors and converting into dense representation\n",
    "sample_points = total['CleanedText']\n",
    "sample_points = count_vect.fit_transform(sample_points)\n",
    "sample_points = std_scaler.fit_transform(sample_points)\n",
    "sample_points = sample_points.todense() #t-sne dont work on sparse matrix so we transforing into densee matrix\n",
    "\n",
    "# Storing class label in variable\n",
    "labels = total['Score']\n",
    "\n",
    "# Getting shape\n",
    "print(sample_points.shape)\n",
    "\n",
    "\n",
    "tsne_data = sample_points\n",
    "tsne_labels =  labels\n",
    "\n",
    "# Initializing with perplexity=50 and n_iter = 2500\n",
    "model = TSNE(n_components=2, random_state=0, perplexity=50, n_iter=2500)\n",
    "\n",
    "# Fitting model\n",
    "tsne_data = model.fit_transform(tsne_data)\n",
    "\n",
    "# Adding labels to the data point\n",
    "tsne_data = np.vstack((tsne_data.T, tsne_labels)).T\n",
    "\n",
    "# creating a new data frame which help us in ploting the result data\n",
    "tsne_df = pd.DataFrame(data=tsne_data, columns=('Dimension1', 'Dimension2', 'label'))\n",
    "\n",
    "# Ploting the result of tsne\n",
    "sns.FacetGrid(tsne_df, hue='label', size=5).map(plt.scatter, 'Dimension1', 'Dimension2').add_legend()\n",
    "plt.title(\"TSNE with perplexity: 50, n_iter:2500\")\n",
    "plt.xlabel(\"Dimesnion1\")\n",
    "plt.ylabel(\"Dimension2\")\n",
    "plt.show()\n",
    "\n"
   ]
  },
  {
   "cell_type": "markdown",
   "metadata": {
    "ExecuteTime": {
     "end_time": "2019-12-12T13:30:43.453351Z",
     "start_time": "2019-12-12T13:30:43.431289Z"
    }
   },
   "source": [
    "# TF-idf"
   ]
  },
  {
   "cell_type": "markdown",
   "metadata": {},
   "source": [
    "For better understanding t-sne refer this blog :- https://colah.github.io/posts/2014-10-Visualizing-MNIST/"
   ]
  },
  {
   "cell_type": "code",
   "execution_count": 21,
   "metadata": {
    "ExecuteTime": {
     "end_time": "2019-12-13T08:35:50.897427Z",
     "start_time": "2019-12-13T08:07:40.480877Z"
    }
   },
   "outputs": [
    {
     "name": "stdout",
     "output_type": "stream",
     "text": [
      "(8000, 12141)\n"
     ]
    },
    {
     "name": "stderr",
     "output_type": "stream",
     "text": [
      "C:\\ProgramData\\Anaconda3\\lib\\site-packages\\seaborn\\axisgrid.py:230: UserWarning: The `size` paramter has been renamed to `height`; please update your code.\n",
      "  warnings.warn(msg, UserWarning)\n"
     ]
    },
    {
     "data": {
      "image/png": "[encoded data removed]",
      "text/plain": [
       "<Figure size 439.75x360 with 1 Axes>"
      ]
     },
     "metadata": {
      "needs_background": "light"
     },
     "output_type": "display_data"
    },
    {
     "name": "stdout",
     "output_type": "stream",
     "text": [
      "Wall time: 28min 10s\n"
     ]
    }
   ],
   "source": [
    "%%time\n",
    "# Initializing standard scaler\n",
    "std_scaler = StandardScaler(with_mean=False)\n",
    "\n",
    "tf_idf_vec= TfidfVectorizer(ngram_range=(1,1))#unigram\n",
    "\n",
    "tf_points = total['CleanedText']\n",
    "tf_points = tf_idf_vec.fit_transform(tf_points)\n",
    "tf_points = std_scaler.fit_transform(tf_points)\n",
    "tf_points =tf_points.todense() #t-sne dont work on sparse matrix so we transforing into densee matrix\n",
    "\n",
    "labels = total['Score']\n",
    "\n",
    "tfidf_labels =labels\n",
    "print(tf_points.shape)\n",
    "\n",
    "\n",
    "\n",
    "model = TSNE(n_components=2, random_state=0,perplexity=30,n_iter=1000)\n",
    "\n",
    "# Fitting model\n",
    "tsne_data = model.fit_transform(tf_points)\n",
    "\n",
    "\n",
    "tsne_data = np.vstack((tsne_data.T, tfidf_labels)).T\n",
    "\n",
    "# Creating  a data frame\n",
    "tsne_df = pd.DataFrame(data=tsne_data, columns=('Dimension1', 'Dimension2', 'label'))\n",
    "\n",
    "# Ploting the result of tsne\n",
    "sns.FacetGrid(tsne_df, hue='label', size=5).map(plt.scatter, 'Dimension1', 'Dimension2').add_legend()\n",
    "plt.title(\"TSNE with perplexity: 30, n_iter:1000\")\n",
    "plt.xlabel(\"Dimesnion1\")\n",
    "plt.ylabel(\"Dimension2\")\n",
    "plt.show()"
   ]
  },
  {
   "cell_type": "markdown",
   "metadata": {
    "ExecuteTime": {
     "end_time": "2019-12-13T07:26:31.463425Z",
     "start_time": "2019-12-13T07:26:31.351170Z"
    }
   },
   "source": [
    "# t-SNE for bi-gram"
   ]
  },
  {
   "cell_type": "code",
   "execution_count": null,
   "metadata": {
    "ExecuteTime": {
     "start_time": "2019-12-13T09:05:35.225Z"
    }
   },
   "outputs": [
    {
     "name": "stdout",
     "output_type": "stream",
     "text": [
      "(8000, 171608)\n"
     ]
    }
   ],
   "source": [
    "%%time\n",
    "# Initializing standard scaler\n",
    "std_scaler = StandardScaler(with_mean=False)\n",
    "\n",
    "tf_idf_vec= TfidfVectorizer(ngram_range=(1,2))#unigram\n",
    "\n",
    "tf_points = total['CleanedText']\n",
    "tf_points = tf_idf_vec.fit_transform(tf_points)\n",
    "tf_points = std_scaler.fit_transform(tf_points)\n",
    "tf_points =tf_points.todense() #t-sne dont work on sparse matrix so we transforing into densee matrix\n",
    "\n",
    "labels = total['Score']\n",
    "\n",
    "tfidf_labels =labels\n",
    "print(tf_points.shape)\n",
    "\n",
    "\n",
    "\n",
    "model = TSNE(n_components=2, random_state=0,perplexity=30,n_iter=1000)\n",
    "\n",
    "# Fitting model\n",
    "tsne_data = model.fit_transform(tf_points)\n",
    "\n",
    "\n",
    "tsne_data = np.vstack((tsne_data.T, tfidf_labels)).T\n",
    "\n",
    "# Creating  a data frame\n",
    "tsne_df = pd.DataFrame(data=tsne_data, columns=('Dimension1', 'Dimension2', 'label'))\n",
    "\n",
    "# Ploting the result of tsne\n",
    "sns.FacetGrid(tsne_df, hue='label', size=5).map(plt.scatter, 'Dimension1', 'Dimension2').add_legend()\n",
    "plt.title(\"TSNE with perplexity: 30, n_iter:1000\")\n",
    "plt.xlabel(\"Dimesnion1\")\n",
    "plt.ylabel(\"Dimension2\")\n",
    "plt.show()"
   ]
  },
  {
   "cell_type": "code",
   "execution_count": null,
   "metadata": {},
   "outputs": [],
   "source": []
  }
 ],
 "metadata": {
  "kernelspec": {
   "display_name": "Python 3",
   "language": "python",
   "name": "python3"
  },
  "language_info": {
   "codemirror_mode": {
    "name": "ipython",
    "version": 3
   },
   "file_extension": ".py",
   "mimetype": "text/x-python",
   "name": "python",
   "nbconvert_exporter": "python",
   "pygments_lexer": "ipython3",
   "version": "3.7.3"
  },
  "toc": {
   "base_numbering": 1,
   "nav_menu": {},
   "number_sections": true,
   "sideBar": true,
   "skip_h1_title": false,
   "title_cell": "Table of Contents",
   "title_sidebar": "Contents",
   "toc_cell": false,
   "toc_position": {},
   "toc_section_display": true,
   "toc_window_display": false
  },
  "varInspector": {
   "cols": {
    "lenName": 16,
    "lenType": 16,
    "lenVar": 40
   },
   "kernels_config": {
    "python": {
     "delete_cmd_postfix": "",
     "delete_cmd_prefix": "del ",
     "library": "var_list.py",
     "varRefreshCmd": "print(var_dic_list())"
    },
    "r": {
     "delete_cmd_postfix": ") ",
     "delete_cmd_prefix": "rm(",
     "library": "var_list.r",
     "varRefreshCmd": "cat(var_dic_list()) "
    }
   },
   "types_to_exclude": [
    "module",
    "function",
    "builtin_function_or_method",
    "instance",
    "_Feature"
   ],
   "window_display": false
  }
 },
 "nbformat": 4,
 "nbformat_minor": 2
}
